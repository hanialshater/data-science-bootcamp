{
 "cells": [
  {
   "cell_type": "code",
   "execution_count": 5,
   "metadata": {},
   "outputs": [],
   "source": [
    "#!pip install daft\n",
    "#!pip install jupyterstan\n",
    "#!pip install pandas\n",
    "#!pip install sklearn\n",
    "#!pip install scipy\n",
    "#!pip install Pillow"
   ]
  },
  {
   "cell_type": "code",
   "execution_count": null,
   "metadata": {},
   "outputs": [],
   "source": [
    "%load_ext jupyterstan\n",
    "import matplotlib.pyplot as plt\n",
    "import numpy as np\n",
    "plt.ion()"
   ]
  },
  {
   "cell_type": "markdown",
   "metadata": {},
   "source": [
    "## 1.1. Coin flip"
   ]
  },
  {
   "cell_type": "code",
   "execution_count": 24,
   "metadata": {},
   "outputs": [
    {
     "name": "stderr",
     "output_type": "stream",
     "text": [
      "INFO:pystan:COMPILING THE C++ CODE FOR MODEL coin_flip_8ac56cb9cf265621492bb404a952ac28 NOW.\n"
     ]
    },
    {
     "name": "stdout",
     "output_type": "stream",
     "text": [
      "Creating pystan model & assigning it to variable name \"coin_flip\".\n",
      "Stan options:\n",
      " {'model_name': 'coin_flip', 'include_paths': None, 'boost_lib': None, 'eigen_lib': None, 'verbose': False, 'obfuscate_model_name': True}\n",
      "StanModel now available as variable \"coin_flip\"!\n",
      "Compilation took 42 seconds.\n"
     ]
    }
   ],
   "source": [
    "%%stan coin_flip\n",
    "data {\n",
    "    int N;\n",
    "    int x[N];\n",
    "}\n",
    "parameters {\n",
    "    real<lower=0, upper=1> theta;\n",
    "}\n",
    "model {\n",
    "    x ~ bernoulli(theta);\n",
    "}\n"
   ]
  },
  {
   "cell_type": "code",
   "execution_count": 25,
   "metadata": {},
   "outputs": [
    {
     "data": {
      "text/plain": [
       "<matplotlib.collections.LineCollection at 0x123c47e50>"
      ]
     },
     "execution_count": 25,
     "metadata": {},
     "output_type": "execute_result"
    },
    {
     "data": {
      "image/png": "[encoded data removed]",
      "text/plain": [
       "<Figure size 432x288 with 1 Axes>"
      ]
     },
     "metadata": {
      "needs_background": "light"
     },
     "output_type": "display_data"
    }
   ],
   "source": [
    "fit = coin_flip.sampling(\n",
    "    data={'x': [1, 0, 0, 1, 1, 1], 'N': 6},\n",
    "    iter=1000,\n",
    "    chains=4\n",
    ")\n",
    "\n",
    "theta_samples = fit.extract()[\"theta\"]\n",
    "plt.hist(theta_samples, 25, histtype='step')\n",
    "plt.vlines(np.mean(theta_samples), 0, 200, linestyle=\"--\", label=\"estimated $theta$ (unknown)\")\n"
   ]
  },
  {
   "cell_type": "markdown",
   "metadata": {},
   "source": [
    "## 1.2: 20 questions"
   ]
  },
  {
   "cell_type": "code",
   "execution_count": 50,
   "metadata": {},
   "outputs": [
    {
     "name": "stderr",
     "output_type": "stream",
     "text": [
      "INFO:pystan:COMPILING THE C++ CODE FOR MODEL twenty_questions_d7118d9d3f48b871d5f2fe272bab0b6e NOW.\n"
     ]
    },
    {
     "name": "stdout",
     "output_type": "stream",
     "text": [
      "Creating pystan model & assigning it to variable name \"twenty_questions\".\n",
      "Stan options:\n",
      " {'model_name': 'twenty_questions', 'include_paths': None, 'boost_lib': None, 'eigen_lib': None, 'verbose': False, 'obfuscate_model_name': True}\n",
      "StanModel now available as variable \"twenty_questions\"!\n",
      "Compilation took 42 seconds.\n"
     ]
    }
   ],
   "source": [
    "%%stan twenty_questions\n",
    "#Twenty Questionn, code form the book baysian cognitive models\n",
    "data { \n",
    "  int<lower=0> np;  // rows\n",
    "  int<lower=0> nq;  // columns\n",
    "  int k[np,nq];\n",
    "  int k_na[np,nq];  // locating NAs in k\n",
    "  int n_na;         // number of NAs\n",
    "}\n",
    "parameters {\n",
    "  real<lower=0,upper=1> p[np];\n",
    "  real<lower=0,upper=1> q[nq];\n",
    "} \n",
    "transformed parameters {\n",
    "  real<lower=0,upper=1> theta[np,nq];\n",
    "  // Probability Correct Is Product Of Question By Person Rates\n",
    "  for (i in 1:np)\n",
    "    for (j in 1:nq)\n",
    "      theta[i,j] <- p[i] * q[j];\n",
    "  \n",
    "}\n",
    "model {\n",
    "  // Priors For People and Questions\n",
    "  p ~ beta(1, 1);\n",
    "  q ~ beta(1, 1);\n",
    "    \n",
    "  // Correctness Of Each Answer Is Bernoulli Trial\n",
    "  for (i in 1:np)\n",
    "    for (j in 1:nq)\n",
    "      if (k_na[i,j] == 0)     // If k[i,j] is not missing\n",
    "        k[i,j] ~ bernoulli(theta[i,j]);\n",
    "}\n",
    "generated quantities {\n",
    "  int na_array[n_na];p\n",
    "  int index;\n",
    "  \n",
    "  index <- 1;\n",
    "  for (i in 1:np) {\n",
    "    for (j in 1:nq) {   \n",
    "      if (k_na[i,j] == 1) {   // If k[i,j] is missing\n",
    "        na_array[index] <- bernoulli_rng(theta[i,j]);\n",
    "        index <- index + 1;\n",
    "      }\n",
    "    }\n",
    "  }\n",
    "}"
   ]
  },
  {
   "cell_type": "code",
   "execution_count": 82,
   "metadata": {},
   "outputs": [],
   "source": [
    "data = np.array([[1,1,1,1,0,0,1,1,0,1,0,0,np.nan,0,0,1,0,1,0,0],\n",
    "        [0,1,1,0,0,0,0,0,0,0,0,0,0,0,0,0,0,0,0,0],\n",
    "        [0,0,1,0,0,0,1,1,0,0,0,0,1,0,0,0,0,0,0,0],\n",
    "        [0,0,0,0,0,0,1,0,1,1,0,0,0,0,0,0,0,0,0,0],\n",
    "        [1,0,1,1,0,1,1,1,0,1,0,0,1,0,0,0,0,1,0,0],\n",
    "        [1,1,0,1,0,0,0,1,0,1,0,1,1,0,0,1,0,1,0,0],\n",
    "        [0,0,0,0,0,0,0,0,0,0,0,1,0,0,0,0,0,0,0,0],\n",
    "        [0,0,0,0,np.nan,0,0,0,0,0,0,0,0,0,0,0,0,0,0,0],\n",
    "        [0,1,1,0,0,0,0,1,0,1,0,0,1,0,0,0,0,1,0,1],\n",
    "        [1,0,0,0,0,0,1,0,0,1,0,0,1,0,0,0,0,np.nan,0,0]])"
   ]
  },
  {
   "cell_type": "code",
   "execution_count": 83,
   "metadata": {},
   "outputs": [],
   "source": [
    "np_, nq_ = data.shape\n",
    "k_na = np.zeros_like(data).astype(np.int)\n",
    "na_indeces = np.argwhere(np.isnan(data))\n",
    "na_x = na_indeces[:, 0]\n",
    "na_y = na_indeces[:, 1]\n",
    "k_na[na_x, na_y] = 1\n",
    "n_na = len(na_x)\n",
    "\n",
    "data[np.isnan(data)] = 0\n",
    "data = data.astype(np.int)\n",
    "\n"
   ]
  },
  {
   "cell_type": "code",
   "execution_count": 84,
   "metadata": {},
   "outputs": [
    {
     "name": "stderr",
     "output_type": "stream",
     "text": [
      "WARNING:pystan:Automatic Differentiation Variational Inference (ADVI) is an EXPERIMENTAL ALGORITHM.\n",
      "WARNING:pystan:ADVI samples may be found on the filesystem in the file `/var/folders/y2/t181z22j1sn1vvn64nr7_y0xrb8507/T/tmp0yv6lagb/output.csv`\n",
      "/anaconda3/envs/stan/lib/python3.7/site-packages/ipykernel_launcher.py:19: RuntimeWarning: invalid value encountered in multiply\n"
     ]
    }
   ],
   "source": [
    "fit = twenty_questions.vb(\n",
    "    data={'np': np_, 'nq': nq_, 'k': data, 'k_na': k_na, 'n_na':n_na}, iter=10e5\n",
    ")\n",
    "fit = pystan_vb_extract(fit)"
   ]
  },
  {
   "cell_type": "code",
   "execution_count": 90,
   "metadata": {},
   "outputs": [
    {
     "data": {
      "text/plain": [
       "(array([0.89624331, 0.30372052, 0.4712038 , 0.3465624 , 0.86185336,\n",
       "        0.84876026, 0.23857402, 0.0840287 , 0.7057258 , 0.51734442]),\n",
       " array([0.74794701, 0.69871719, 0.73968346, 0.66574776, 0.13796357,\n",
       "        0.25032629, 0.74667629, 0.84045217, 0.29177803, 0.84113753,\n",
       "        0.1514244 , 0.43770691, 0.80970098, 0.14995989, 0.13932807,\n",
       "        0.51495225, 0.14746654, 0.81044483, 0.15512391, 0.32404641]))"
      ]
     },
     "execution_count": 90,
     "metadata": {},
     "output_type": "execute_result"
    }
   ],
   "source": [
    "p = np.mean(fit['p'], axis=0)\n",
    "q = np.mean(fit['q'], axis=0)\n",
    "p, q"
   ]
  },
  {
   "cell_type": "code",
   "execution_count": 95,
   "metadata": {},
   "outputs": [
    {
     "data": {
      "text/plain": [
       "array([0.731, 0.012, 0.399])"
      ]
     },
     "execution_count": 95,
     "metadata": {},
     "output_type": "execute_result"
    }
   ],
   "source": [
    "fit['na_array'].mean(axis=0)"
   ]
  },
  {
   "cell_type": "code",
   "execution_count": 96,
   "metadata": {},
   "outputs": [
    {
     "data": {
      "text/plain": [
       "array([[1, 1, 1, 1, 0, 0, 1, 1, 0, 1, 0, 0, 0, 0, 0, 1, 0, 1, 0, 0],\n",
       "       [0, 1, 1, 0, 0, 0, 0, 0, 0, 0, 0, 0, 0, 0, 0, 0, 0, 0, 0, 0],\n",
       "       [0, 0, 1, 0, 0, 0, 1, 1, 0, 0, 0, 0, 1, 0, 0, 0, 0, 0, 0, 0],\n",
       "       [0, 0, 0, 0, 0, 0, 1, 0, 1, 1, 0, 0, 0, 0, 0, 0, 0, 0, 0, 0],\n",
       "       [1, 0, 1, 1, 0, 1, 1, 1, 0, 1, 0, 0, 1, 0, 0, 0, 0, 1, 0, 0],\n",
       "       [1, 1, 0, 1, 0, 0, 0, 1, 0, 1, 0, 1, 1, 0, 0, 1, 0, 1, 0, 0],\n",
       "       [0, 0, 0, 0, 0, 0, 0, 0, 0, 0, 0, 1, 0, 0, 0, 0, 0, 0, 0, 0],\n",
       "       [0, 0, 0, 0, 0, 0, 0, 0, 0, 0, 0, 0, 0, 0, 0, 0, 0, 0, 0, 0],\n",
       "       [0, 1, 1, 0, 0, 0, 0, 1, 0, 1, 0, 0, 1, 0, 0, 0, 0, 1, 0, 1],\n",
       "       [1, 0, 0, 0, 0, 0, 1, 0, 0, 1, 0, 0, 1, 0, 0, 0, 0, 0, 0, 0]])"
      ]
     },
     "execution_count": 96,
     "metadata": {},
     "output_type": "execute_result"
    }
   ],
   "source": [
    "#dose the reslts make sense, find out in the data  \n",
    "data"
   ]
  },
  {
   "cell_type": "markdown",
   "metadata": {},
   "source": [
    "# 2. Understanding Mahchine learning algorithms"
   ]
  },
  {
   "cell_type": "markdown",
   "metadata": {},
   "source": [
    "### 2.1. Simple linear regression\n"
   ]
  },
  {
   "cell_type": "code",
   "execution_count": 359,
   "metadata": {},
   "outputs": [
    {
     "name": "stdout",
     "output_type": "stream",
     "text": [
      "Creating pystan model & assigning it to variable name \"linear_regression\".\n",
      "Stan options:\n",
      " {'model_name': 'linear_regression', 'include_paths': None, 'boost_lib': None, 'eigen_lib': None, 'verbose': False, 'obfuscate_model_name': True}\n"
     ]
    },
    {
     "name": "stderr",
     "output_type": "stream",
     "text": [
      "INFO:pystan:COMPILING THE C++ CODE FOR MODEL linear_regression_8e0f87fef8056f4b19a98f5e63de0fa1 NOW.\n"
     ]
    },
    {
     "name": "stdout",
     "output_type": "stream",
     "text": [
      "StanModel now available as variable \"linear_regression\"!\n",
      "Compilation took 44 seconds.\n"
     ]
    }
   ],
   "source": [
    "%%stan simple_linear_regression\n",
    "data {\n",
    "  int<lower=0> N;\n",
    "  vector[N] x;\n",
    "  vector[N] y;\n",
    "}\n",
    "parameters {\n",
    "  real alpha;\n",
    "  real beta;\n",
    "  real<lower=0> sigma;\n",
    "}\n",
    "model {\n",
    "  y ~ normal(alpha + beta * x, sigma);\n",
    "}"
   ]
  },
  {
   "cell_type": "code",
   "execution_count": 360,
   "metadata": {
    "scrolled": true
   },
   "outputs": [
    {
     "data": {
      "text/plain": [
       "OrderedDict([('alpha',\n",
       "              array([1.59300377, 2.45156784, 1.37840045, ..., 1.32268904, 0.85755392,\n",
       "                     1.65259188])),\n",
       "             ('beta',\n",
       "              array([6.60790461, 5.06659571, 5.77083418, ..., 7.0557764 , 7.98124639,\n",
       "                     6.71047637])),\n",
       "             ('sigma',\n",
       "              array([1.01328737, 0.98842455, 1.15053097, ..., 0.87900454, 1.35537137,\n",
       "                     0.64840771])),\n",
       "             ('lp__',\n",
       "              array([-4.15950169, -5.96235059, -6.13896881, ..., -4.02173944,\n",
       "                     -5.65973695, -5.89225016]))])"
      ]
     },
     "execution_count": 360,
     "metadata": {},
     "output_type": "execute_result"
    }
   ],
   "source": [
    "n = 11\n",
    "_a = 6\n",
    "_b = 2\n",
    "x = np.linspace(0, 1, n)\n",
    "y = _a*x + _b + np.random.randn(n)\n",
    "\n",
    "fit = simple_linear_regression.sampling(\n",
    "    data={'x': x, 'y': y, 'N': 11},\n",
    "    iter=1000,\n",
    "    chains=4\n",
    ").extract()\n"
   ]
  },
  {
   "cell_type": "code",
   "execution_count": 364,
   "metadata": {},
   "outputs": [
    {
     "data": {
      "text/plain": [
       "(1.4545435670063511, 6.713487553648372)"
      ]
     },
     "execution_count": 364,
     "metadata": {},
     "output_type": "execute_result"
    }
   ],
   "source": [
    "#point estimat\n",
    "alpha = fit['alpha'].mean(axis=0)\n",
    "beta = fit['beta'].mean(axis=0)\n",
    "alpha, beta\n",
    "#plot the line, the credible interval"
   ]
  },
  {
   "cell_type": "markdown",
   "metadata": {},
   "source": [
    "### 2.2. Linear regression"
   ]
  },
  {
   "cell_type": "code",
   "execution_count": 65,
   "metadata": {},
   "outputs": [],
   "source": [
    "from collections import OrderedDict\n",
    "def pystan_vb_extract(results):\n",
    "    param_specs = results['sampler_param_names']\n",
    "    samples = results['sampler_params']\n",
    "    n = len(samples[0])\n",
    "\n",
    "    # first pass, calculate the shape\n",
    "    param_shapes = OrderedDict()\n",
    "    for param_spec in param_specs:\n",
    "        splt = param_spec.split('[')\n",
    "        name = splt[0]\n",
    "        if len(splt) > 1:\n",
    "            idxs = [int(i) for i in splt[1][:-1].split(',')]  # no +1 for shape calculation because pystan already returns 1-based indexes for vb!\n",
    "        else:\n",
    "            idxs = ()\n",
    "        param_shapes[name] = np.maximum(idxs, param_shapes.get(name, idxs))\n",
    "\n",
    "    # create arrays\n",
    "    params = OrderedDict([(name, np.nan * np.empty((n, ) + tuple(shape))) for name, shape in param_shapes.items()])\n",
    "\n",
    "    # second pass, set arrays\n",
    "    for param_spec, param_samples in zip(param_specs, samples):\n",
    "        splt = param_spec.split('[')\n",
    "        name = splt[0]\n",
    "        if len(splt) > 1:\n",
    "            idxs = [int(i) - 1 for i in splt[1][:-1].split(',')]  # -1 because pystan returns 1-based indexes for vb!\n",
    "        else:\n",
    "            idxs = ()\n",
    "        params[name][(..., ) + tuple(idxs)] = param_samples\n",
    "\n",
    "    return params"
   ]
  },
  {
   "cell_type": "code",
   "execution_count": 3,
   "metadata": {},
   "outputs": [
    {
     "name": "stderr",
     "output_type": "stream",
     "text": [
      "INFO:pystan:COMPILING THE C++ CODE FOR MODEL linear_regression_ac4d39ecd90533d9962124a59c7c2886 NOW.\n"
     ]
    },
    {
     "name": "stdout",
     "output_type": "stream",
     "text": [
      "Creating pystan model & assigning it to variable name \"linear_regression\".\n",
      "Stan options:\n",
      " {'model_name': 'linear_regression', 'include_paths': None, 'boost_lib': None, 'eigen_lib': None, 'verbose': False, 'obfuscate_model_name': True}\n",
      "StanModel now available as variable \"linear_regression\"!\n",
      "Compilation took 45 seconds.\n"
     ]
    }
   ],
   "source": [
    "%%stan linear_regression\n",
    "data {\n",
    "    int<lower=0> N;\n",
    "    int<lower=0> D;\n",
    "    matrix[N,D] X;\n",
    "    vector[N] y;\n",
    "}\n",
    "parameters {\n",
    "    vector[D] w;\n",
    "    real beta;\n",
    "    real<lower=0> sigma;\n",
    "}\n",
    "model {\n",
    "    y ~ normal(X*w + beta, sigma);\n",
    "}"
   ]
  },
  {
   "cell_type": "code",
   "execution_count": 4,
   "metadata": {},
   "outputs": [],
   "source": [
    "from sklearn.datasets import load_boston\n",
    "from sklearn.model_selection import train_test_split\n",
    "\n",
    "X, y = load_boston(return_X_y=True)\n",
    "\n",
    "X_train, X_test, y_train, y_test = train_test_split(X, y, test_size=0.3)\n",
    "N = len(X_train)\n",
    "D = len(X_train[0])"
   ]
  },
  {
   "cell_type": "code",
   "execution_count": 19,
   "metadata": {},
   "outputs": [],
   "source": [
    "fit = linear_regression.optimizing(\n",
    "    data={'N': N, 'D': D, 'X': X_train, 'y': y_train}, init='random'\n",
    ")\n"
   ]
  },
  {
   "cell_type": "code",
   "execution_count": 20,
   "metadata": {},
   "outputs": [],
   "source": [
    "w = fit['w']\n",
    "beta = fit['beta']"
   ]
  },
  {
   "cell_type": "code",
   "execution_count": 53,
   "metadata": {},
   "outputs": [
    {
     "data": {
      "text/plain": [
       "22.994162467655553"
      ]
     },
     "execution_count": 53,
     "metadata": {},
     "output_type": "execute_result"
    }
   ],
   "source": [
    "from sklearn.metrics import mean_squared_error\n",
    "\n",
    "y_pred = np.dot(X_test, w) + beta\n",
    "mean_squared_error(y_pred, y_test)"
   ]
  },
  {
   "cell_type": "code",
   "execution_count": 77,
   "metadata": {
    "scrolled": true
   },
   "outputs": [
    {
     "name": "stderr",
     "output_type": "stream",
     "text": [
      "WARNING:pystan:Automatic Differentiation Variational Inference (ADVI) is an EXPERIMENTAL ALGORITHM.\n",
      "WARNING:pystan:ADVI samples may be found on the filesystem in the file `/var/folders/y2/t181z22j1sn1vvn64nr7_y0xrb8507/T/tmp957gx2pb/output.csv`\n"
     ]
    }
   ],
   "source": [
    "fit = linear_regression.vb(\n",
    "    data={'N': N, 'D': D, 'X': X_train, 'y': y_train}, iter=10e5\n",
    ")\n",
    "fit = pystan_vb_extract(fit)"
   ]
  },
  {
   "cell_type": "code",
   "execution_count": 78,
   "metadata": {},
   "outputs": [
    {
     "data": {
      "text/plain": [
       "(array([-1.18860198e-01,  6.21102261e-02, -4.65102206e-03,  2.91529681e+00,\n",
       "        -1.81205662e+01,  3.62492359e+00,  5.90720006e-03, -1.46998990e+00,\n",
       "         3.32158736e-01, -1.29446081e-02, -9.80761122e-01,  7.69009653e-03,\n",
       "        -4.77222160e-01]), 38.58793947032195)"
      ]
     },
     "execution_count": 78,
     "metadata": {},
     "output_type": "execute_result"
    }
   ],
   "source": [
    "w = fit['w'].mean(axis=0)\n",
    "beta = fit['beta'].mean(axis=0)\n",
    "w, beta"
   ]
  },
  {
   "cell_type": "code",
   "execution_count": 79,
   "metadata": {},
   "outputs": [
    {
     "data": {
      "text/plain": [
       "22.171224680402997"
      ]
     },
     "execution_count": 79,
     "metadata": {},
     "output_type": "execute_result"
    }
   ],
   "source": [
    "y_pred = np.dot(X_test, w) + beta\n",
    "mean_squared_error(y_pred, y_test)"
   ]
  },
  {
   "cell_type": "code",
   "execution_count": 57,
   "metadata": {},
   "outputs": [
    {
     "data": {
      "text/plain": [
       "21.817976737052096"
      ]
     },
     "execution_count": 57,
     "metadata": {},
     "output_type": "execute_result"
    }
   ],
   "source": [
    "from sklearn.linear_model import LinearRegression\n",
    "clf = LinearRegression().fit(X_train, y_train)\n",
    "y_pred = clf.predict(X_test)\n",
    "mean_squared_error(y_pred, y_test)"
   ]
  },
  {
   "cell_type": "markdown",
   "metadata": {},
   "source": [
    "### 2.3 Bayesian Linear regression"
   ]
  },
  {
   "cell_type": "code",
   "execution_count": 58,
   "metadata": {},
   "outputs": [
    {
     "name": "stderr",
     "output_type": "stream",
     "text": [
      "INFO:pystan:COMPILING THE C++ CODE FOR MODEL bayesian_linear_regression_025cfd999e42fea71c66c43453cf32b3 NOW.\n"
     ]
    },
    {
     "name": "stdout",
     "output_type": "stream",
     "text": [
      "Creating pystan model & assigning it to variable name \"bayesian_linear_regression\".\n",
      "Stan options:\n",
      " {'model_name': 'bayesian_linear_regression', 'include_paths': None, 'boost_lib': None, 'eigen_lib': None, 'verbose': False, 'obfuscate_model_name': True}\n",
      "StanModel now available as variable \"bayesian_linear_regression\"!\n",
      "Compilation took 44 seconds.\n"
     ]
    }
   ],
   "source": [
    "%%stan bayesian_linear_regression\n",
    "data {\n",
    "    int<lower=0> N;\n",
    "    int<lower=0> D;\n",
    "    matrix[N,D] X;\n",
    "    vector[N] y;\n",
    "}\n",
    "parameters {\n",
    "    vector[D] w;\n",
    "    real beta;\n",
    "    real sigma_squar;\n",
    "    real<lower=0> tau;\n",
    "}\n",
    "transformed parameters {\n",
    "    real<lower=0> t_tau;\n",
    "    t_tau =  inv(tau);\n",
    "}\n",
    "model {\n",
    "    tau ~ gamma(1,1);\n",
    "    sigma_squar ~ inv_gamma(1,1);\n",
    "    w ~ normal(0, t_tau);\n",
    "    y ~ normal(X*w + beta, sigma_squar);\n",
    "}"
   ]
  },
  {
   "cell_type": "code",
   "execution_count": 74,
   "metadata": {},
   "outputs": [
    {
     "name": "stderr",
     "output_type": "stream",
     "text": [
      "WARNING:pystan:Automatic Differentiation Variational Inference (ADVI) is an EXPERIMENTAL ALGORITHM.\n",
      "WARNING:pystan:ADVI samples may be found on the filesystem in the file `/var/folders/y2/t181z22j1sn1vvn64nr7_y0xrb8507/T/tmpvrezg7rs/output.csv`\n"
     ]
    }
   ],
   "source": [
    "fit = bayesian_linear_regression.vb(\n",
    "    data={'N': N, 'D': D, 'X': X_train, 'y': y_train}, iter=10e4\n",
    ")\n",
    "fit = pystan_vb_extract(fit)"
   ]
  },
  {
   "cell_type": "code",
   "execution_count": 75,
   "metadata": {},
   "outputs": [
    {
     "data": {
      "text/plain": [
       "(array([-0.11602466,  0.05842148, -0.04322857,  1.79147079, -0.49222133,\n",
       "         4.72463426, -0.00584015, -1.0401059 ,  0.2232276 , -0.01273273,\n",
       "        -0.53334438,  0.01043178, -0.43747648]), 11.707233878572886)"
      ]
     },
     "execution_count": 75,
     "metadata": {},
     "output_type": "execute_result"
    }
   ],
   "source": [
    "w = fit['w'].mean(axis=0)\n",
    "beta = fit['beta'].mean(axis=0)\n",
    "w, beta"
   ]
  },
  {
   "cell_type": "code",
   "execution_count": 76,
   "metadata": {},
   "outputs": [
    {
     "data": {
      "text/plain": [
       "22.33689198227719"
      ]
     },
     "execution_count": 76,
     "metadata": {},
     "output_type": "execute_result"
    }
   ],
   "source": [
    "y_pred = np.dot(X_test, w) + beta\n",
    "mean_squared_error(y_pred, y_test)"
   ]
  },
  {
   "cell_type": "markdown",
   "metadata": {},
   "source": [
    "### 2.4 Bayesian Linear regression with ARD\n"
   ]
  },
  {
   "cell_type": "code",
   "execution_count": 100,
   "metadata": {},
   "outputs": [
    {
     "name": "stderr",
     "output_type": "stream",
     "text": [
      "INFO:pystan:COMPILING THE C++ CODE FOR MODEL bayesian_linear_regression_ard_c20a2a4c04ea611c1c0e74b2b49e461a NOW.\n"
     ]
    },
    {
     "name": "stdout",
     "output_type": "stream",
     "text": [
      "Creating pystan model & assigning it to variable name \"bayesian_linear_regression_ard\".\n",
      "Stan options:\n",
      " {'model_name': 'bayesian_linear_regression_ard', 'include_paths': None, 'boost_lib': None, 'eigen_lib': None, 'verbose': False, 'obfuscate_model_name': True}\n",
      "StanModel now available as variable \"bayesian_linear_regression_ard\"!\n",
      "Compilation took 52 seconds.\n"
     ]
    }
   ],
   "source": [
    "%%stan bayesian_linear_regression_ard\n",
    "data {\n",
    "    int<lower=0> N;\n",
    "    int<lower=0> D;\n",
    "    matrix[N,D] X;\n",
    "    vector[N] y;\n",
    "}\n",
    "parameters {\n",
    "    vector[D] w;\n",
    "    real beta;\n",
    "    real sigma_squar;\n",
    "    vector<lower=0>[D] alpha;\n",
    "}\n",
    "transformed parameters {  \n",
    "    vector<lower=0>[D] t_alpha;\n",
    "    for (d in 1:D) \n",
    "      t_alpha[d] = 1/sqrt(alpha[d]);\n",
    "\n",
    "}\n",
    "model {\n",
    "    sigma_squar ~ inv_gamma(1, 1);\n",
    "    alpha ~ gamma(1e-3, 1e-3);\n",
    "    w ~ normal(0, t_alpha);\n",
    "    y ~ normal(X*w + beta, sigma_squar);\n",
    "}"
   ]
  },
  {
   "cell_type": "code",
   "execution_count": 195,
   "metadata": {},
   "outputs": [
    {
     "name": "stderr",
     "output_type": "stream",
     "text": [
      "WARNING:pystan:Automatic Differentiation Variational Inference (ADVI) is an EXPERIMENTAL ALGORITHM.\n",
      "WARNING:pystan:ADVI samples may be found on the filesystem in the file `/var/folders/y2/t181z22j1sn1vvn64nr7_y0xrb8507/T/tmpw4z7ud8x/output.csv`\n"
     ]
    }
   ],
   "source": [
    "noise = np.random.random((len(X_train), 13)) * 1000\n",
    "fit = bayesian_linear_regression_ard.vb(\n",
    "    data={'N': N, 'D': D + 13, 'X': np.hstack([X_train, noise]), 'y': y_train}, iter=10e5\n",
    ")\n",
    "fit = pystan_vb_extract(fit)"
   ]
  },
  {
   "cell_type": "code",
   "execution_count": 198,
   "metadata": {},
   "outputs": [
    {
     "data": {
      "text/plain": [
       "(array([-6.90121257e-02,  4.74786329e-02, -8.42614329e-03,  1.87504653e+00,\n",
       "        -4.45859488e-03,  4.15352489e+00, -1.35787745e-02, -1.01710407e+00,\n",
       "         1.42945142e-01, -1.09657831e-02, -7.57784942e-01,  7.92614755e-03,\n",
       "        -4.82479737e-01, -2.08220102e-04,  1.72467094e-03, -4.51219736e-04,\n",
       "        -4.00223803e-04, -1.23885124e-03,  1.35443226e-03,  1.30568824e-03,\n",
       "        -6.05107099e-04,  4.79955686e-04, -1.20838991e-03,  1.37960120e-03,\n",
       "         1.08466355e-03, -5.35710944e-04]),\n",
       " 19.34023524018347,\n",
       " 4.757837353841128)"
      ]
     },
     "execution_count": 198,
     "metadata": {},
     "output_type": "execute_result"
    }
   ],
   "source": [
    "w = fit['w'].mean(axis=0)\n",
    "beta = fit['beta'].mean(axis=0)\n",
    "w, beta, np.linalg.norm(w)"
   ]
  },
  {
   "cell_type": "code",
   "execution_count": 199,
   "metadata": {},
   "outputs": [
    {
     "data": {
      "text/plain": [
       "21.909086498825797"
      ]
     },
     "execution_count": 199,
     "metadata": {},
     "output_type": "execute_result"
    }
   ],
   "source": [
    "noise = np.random.random((len(X_test), 13)) * 1000\n",
    "y_pred = np.dot(np.hstack([X_test, noise]), w) + beta\n",
    "mean_squared_error(y_pred, y_test)"
   ]
  },
  {
   "cell_type": "code",
   "execution_count": 203,
   "metadata": {},
   "outputs": [
    {
     "name": "stderr",
     "output_type": "stream",
     "text": [
      "WARNING:pystan:Automatic Differentiation Variational Inference (ADVI) is an EXPERIMENTAL ALGORITHM.\n",
      "WARNING:pystan:ADVI samples may be found on the filesystem in the file `/var/folders/y2/t181z22j1sn1vvn64nr7_y0xrb8507/T/tmpo2xq74my/output.csv`\n"
     ]
    },
    {
     "data": {
      "text/plain": [
       "22.34880219784789"
      ]
     },
     "execution_count": 203,
     "metadata": {},
     "output_type": "execute_result"
    }
   ],
   "source": [
    "noise = np.random.random((len(X_train), 13)) * 1000\n",
    "fit = linear_regression.vb(\n",
    "    data={'N': N, 'D': D + 13, 'X': np.hstack([X_train, noise]), 'y': y_train}, iter=10e5\n",
    ")\n",
    "fit = pystan_vb_extract(fit)\n",
    "w = fit['w'].mean(axis=0)\n",
    "beta = fit['beta'].mean(axis=0)\n",
    "noise = np.random.random((len(X_test), 13)) * 1000\n",
    "y_pred = np.dot(np.hstack([X_test, noise]), w) + beta\n",
    "mean_squared_error(y_pred, y_test)"
   ]
  },
  {
   "cell_type": "code",
   "execution_count": 204,
   "metadata": {},
   "outputs": [
    {
     "data": {
      "text/plain": [
       "8.587774881556886"
      ]
     },
     "execution_count": 204,
     "metadata": {},
     "output_type": "execute_result"
    }
   ],
   "source": [
    "np.linalg.norm(w)"
   ]
  },
  {
   "cell_type": "markdown",
   "metadata": {},
   "source": [
    "### 2.5 Logistic regression"
   ]
  },
  {
   "cell_type": "code",
   "execution_count": 226,
   "metadata": {},
   "outputs": [
    {
     "name": "stderr",
     "output_type": "stream",
     "text": [
      "INFO:pystan:COMPILING THE C++ CODE FOR MODEL bayesian_logistic_regression_ard_46c29c163d492dc987ecf39feab6dcdb NOW.\n"
     ]
    },
    {
     "name": "stdout",
     "output_type": "stream",
     "text": [
      "Creating pystan model & assigning it to variable name \"bayesian_logistic_regression_ard\".\n",
      "Stan options:\n",
      " {'model_name': 'bayesian_logistic_regression_ard', 'include_paths': None, 'boost_lib': None, 'eigen_lib': None, 'verbose': False, 'obfuscate_model_name': True}\n",
      "StanModel now available as variable \"bayesian_logistic_regression_ard\"!\n",
      "Compilation took 41 seconds.\n"
     ]
    }
   ],
   "source": [
    "%%stan bayesian_logistic_regression_ard\n",
    "data {\n",
    "    int<lower=0> N;\n",
    "    int<lower=0> D;\n",
    "    matrix[N,D] X;\n",
    "    int<lower=0,upper=1> y[N];\n",
    "}\n",
    "parameters {\n",
    "    vector[D] w;\n",
    "    vector<lower=0>[D] alpha;\n",
    "}\n",
    "transformed parameters {\n",
    "    vector<lower=0>[D] t_alpha;\n",
    "    for (d in 1:D) t_alpha[d] = 1/sqrt(alpha[d]);\n",
    "}\n",
    "model {\n",
    "    alpha ~ gamma(1,1);\n",
    "    w ~ normal(0, t_alpha);\n",
    "    //same as bernoulli(inv_logit(alpha + beta * x[n]))\n",
    "    y ~ bernoulli_logit(X*w);\n",
    "}"
   ]
  },
  {
   "cell_type": "code",
   "execution_count": 228,
   "metadata": {},
   "outputs": [],
   "source": [
    "from sklearn.datasets import load_breast_cancer\n",
    "data = load_breast_cancer()\n",
    "X = data['data']\n",
    "y = data['target']\n",
    "X_train, X_test, y_train, y_test = train_test_split(X, y, test_size=0.3)\n",
    "N = len(X_train)\n",
    "D = len(X_train[0])"
   ]
  },
  {
   "cell_type": "code",
   "execution_count": 229,
   "metadata": {},
   "outputs": [
    {
     "name": "stderr",
     "output_type": "stream",
     "text": [
      "WARNING:pystan:Automatic Differentiation Variational Inference (ADVI) is an EXPERIMENTAL ALGORITHM.\n",
      "WARNING:pystan:ADVI samples may be found on the filesystem in the file `/var/folders/y2/t181z22j1sn1vvn64nr7_y0xrb8507/T/tmpji3dmqif/output.csv`\n"
     ]
    }
   ],
   "source": [
    "fit = bayesian_logistic_regression_ard.vb(\n",
    "    data  = {'N': N, 'D': D, 'X': X_train, 'y': y_train}\n",
    ")\n",
    "fit = pystan_vb_extract(fit)\n",
    "w = fit['w'].mean(axis=0)\n"
   ]
  },
  {
   "cell_type": "code",
   "execution_count": 236,
   "metadata": {},
   "outputs": [],
   "source": [
    "from sklearn.metrics import accuracy_score\n",
    "pred = 1 / (1 + np.exp(-np.dot(X_test, w)))\n",
    "accuracy_score(pred>0.5, y_test)"
   ]
  },
  {
   "cell_type": "code",
   "execution_count": 240,
   "metadata": {},
   "outputs": [
    {
     "name": "stderr",
     "output_type": "stream",
     "text": [
      "/anaconda3/envs/stan/lib/python3.7/site-packages/sklearn/linear_model/_logistic.py:939: ConvergenceWarning: lbfgs failed to converge (status=1):\n",
      "STOP: TOTAL NO. of ITERATIONS REACHED LIMIT.\n",
      "\n",
      "Increase the number of iterations (max_iter) or scale the data as shown in:\n",
      "    https://scikit-learn.org/stable/modules/preprocessing.html.\n",
      "Please also refer to the documentation for alternative solver options:\n",
      "    https://scikit-learn.org/stable/modules/linear_model.html#logistic-regression\n",
      "  extra_warning_msg=_LOGISTIC_SOLVER_CONVERGENCE_MSG)\n"
     ]
    },
    {
     "data": {
      "text/plain": [
       "0.9181286549707602"
      ]
     },
     "execution_count": 240,
     "metadata": {},
     "output_type": "execute_result"
    }
   ],
   "source": [
    "from sklearn.linear_model import LogisticRegression\n",
    "clf = LogisticRegression().fit(X_train, y_train)\n",
    "pred = clf.predict(X_test)\n",
    "accuracy_score(pred, y_test)"
   ]
  },
  {
   "cell_type": "markdown",
   "metadata": {},
   "source": [
    "#### 2.6 Softmax regression"
   ]
  },
  {
   "cell_type": "code",
   "execution_count": 2,
   "metadata": {},
   "outputs": [
    {
     "name": "stderr",
     "output_type": "stream",
     "text": [
      "INFO:pystan:COMPILING THE C++ CODE FOR MODEL bayesian_softmax_regression_ard_7178e16c545b2593679ace9ad44b85de NOW.\n"
     ]
    },
    {
     "name": "stdout",
     "output_type": "stream",
     "text": [
      "Creating pystan model & assigning it to variable name \"bayesian_softmax_regression_ard\".\n",
      "Stan options:\n",
      " {'model_name': 'bayesian_softmax_regression_ard', 'include_paths': None, 'boost_lib': None, 'eigen_lib': None, 'verbose': False, 'obfuscate_model_name': True}\n",
      "StanModel now available as variable \"bayesian_softmax_regression_ard\"!\n",
      "Compilation took 43 seconds.\n"
     ]
    }
   ],
   "source": [
    "%%stan bayesian_softmax_regression_ard\n",
    "data {\n",
    "    int<lower=2> C;\n",
    "    int<lower=0> N;\n",
    "    int<lower=0> D;\n",
    "    matrix[N,D] X;\n",
    "    int<lower=1,upper=C> y[N];\n",
    "}\n",
    "parameters {\n",
    "    matrix[D, C - 1] w;\n",
    "    matrix<lower=0>[D, C -1] alpha;\n",
    "}\n",
    "transformed parameters {\n",
    "    matrix<lower=0>[D, C - 1] t_alpha;     \n",
    "    matrix[D, C] w_;\n",
    "    row_vector[D] zeros = rep_row_vector(0, D);\n",
    "  \n",
    "    w_ = append_col(w, to_vector(zeros));\n",
    "    for (d in 1:D)\n",
    "      for (c in 1:C-1)\n",
    "        t_alpha[d][c] = 1/sqrt(alpha[d][c]);\n",
    "}\n",
    "model {\n",
    "    to_vector(alpha) ~ gamma(1,1);\n",
    "    \n",
    "    for (d in 1:D)\n",
    "      for (c in 1:C-1)\n",
    "        w[d][c] ~ normal(0, alpha[d][c]);\n",
    "\n",
    "    //same as  y[n] ~ categorical(softmax(X*w));\n",
    "    for (n in 1:N)\n",
    "      y[n] ~ categorical_logit(to_vector(X[n]*w_));\n",
    "}"
   ]
  },
  {
   "cell_type": "code",
   "execution_count": 5,
   "metadata": {},
   "outputs": [],
   "source": [
    "from sklearn.datasets import load_digits\n",
    "from sklearn.model_selection import train_test_split\n",
    "digits = load_digits()\n",
    "X = digits.images.reshape(-1, 64)\n",
    "y = (digits.target.reshape(-1) + 1).tolist() # +! because categorical in. stan is from 1-c\n",
    "X_train, X_test, y_train, y_test = train_test_split(X, y, test_size=0.3)\n",
    "N = len(X_train)\n",
    "D = len(X_train[0])"
   ]
  },
  {
   "cell_type": "code",
   "execution_count": 19,
   "metadata": {},
   "outputs": [],
   "source": [
    "fit = bayesian_softmax_regression_ard.vb(\n",
    "    data  = {'C': 10, 'N': N, 'D': D, 'X': X_train, 'y': y_train}\n",
    ")\n",
    "fit = pystan_vb_extract(fit)\n",
    "w = fit['w_'].mean(axis=0)"
   ]
  },
  {
   "cell_type": "code",
   "execution_count": 47,
   "metadata": {},
   "outputs": [
    {
     "data": {
      "text/plain": [
       "0.9277777777777778"
      ]
     },
     "execution_count": 47,
     "metadata": {},
     "output_type": "execute_result"
    }
   ],
   "source": [
    "from sklearn.metrics import accuracy_score\n",
    "softmax = lambda x: np.exp(x)/np.sum(np.exp(x), axis=1).reshape(-1, 1)\n",
    "pred = np.argmax(softmax(X_test@w), axis=1) + 1\n",
    "accuracy_score(pred, y_test)"
   ]
  },
  {
   "cell_type": "code",
   "execution_count": 45,
   "metadata": {},
   "outputs": [
    {
     "name": "stderr",
     "output_type": "stream",
     "text": [
      "/anaconda3/envs/stan/lib/python3.7/site-packages/sklearn/linear_model/_logistic.py:939: ConvergenceWarning: lbfgs failed to converge (status=1):\n",
      "STOP: TOTAL NO. of ITERATIONS REACHED LIMIT.\n",
      "\n",
      "Increase the number of iterations (max_iter) or scale the data as shown in:\n",
      "    https://scikit-learn.org/stable/modules/preprocessing.html.\n",
      "Please also refer to the documentation for alternative solver options:\n",
      "    https://scikit-learn.org/stable/modules/linear_model.html#logistic-regression\n",
      "  extra_warning_msg=_LOGISTIC_SOLVER_CONVERGENCE_MSG)\n"
     ]
    },
    {
     "data": {
      "text/plain": [
       "0.95"
      ]
     },
     "execution_count": 45,
     "metadata": {},
     "output_type": "execute_result"
    }
   ],
   "source": [
    "from sklearn.linear_model import LogisticRegression\n",
    "clf = LogisticRegression(solver='lbfgs').fit(X_train, y_train)\n",
    "pred = clf.predict(X_test)\n",
    "accuracy_score(pred, y_test)"
   ]
  },
  {
   "cell_type": "markdown",
   "metadata": {},
   "source": [
    "#### 2.7 Reboust regression"
   ]
  },
  {
   "cell_type": "code",
   "execution_count": 150,
   "metadata": {},
   "outputs": [
    {
     "name": "stderr",
     "output_type": "stream",
     "text": [
      "INFO:pystan:COMPILING THE C++ CODE FOR MODEL robost_regression_ard_c384592ed0c94d44b65a228d194bc775 NOW.\n"
     ]
    },
    {
     "name": "stdout",
     "output_type": "stream",
     "text": [
      "Creating pystan model & assigning it to variable name \"robost_regression_ard\".\n",
      "Stan options:\n",
      " {'model_name': 'robost_regression_ard', 'include_paths': None, 'boost_lib': None, 'eigen_lib': None, 'verbose': False, 'obfuscate_model_name': True}\n",
      "StanModel now available as variable \"robost_regression_ard\"!\n",
      "Compilation took 40 seconds.\n"
     ]
    }
   ],
   "source": [
    "%%stan robost_regression_ard\n",
    "data {\n",
    "    int<lower=0> N;\n",
    "    vector[N] x;\n",
    "    vector[N] y;\n",
    "}\n",
    "parameters {\n",
    "    real alpha;\n",
    "    real beta;\n",
    "    real sigma;\n",
    "    real sigma_;\n",
    "    real<lower=0> nu;\n",
    "}\n",
    "\n",
    "model {\n",
    "    sigma_ ~ gamma(1,1);\n",
    "    alpha ~ normal(0, sigma_);\n",
    "    beta ~ normal(0, sigma_);\n",
    "    sigma ~ exponential(1);\n",
    "  \n",
    "    nu ~ gamma(2, 0.1);\n",
    "    y ~ student_t(nu, alpha * x + beta, sigma);\n",
    "}"
   ]
  },
  {
   "cell_type": "code",
   "execution_count": 176,
   "metadata": {},
   "outputs": [
    {
     "data": {
      "image/png": "[encoded data removed]",
      "text/plain": [
       "<Figure size 432x288 with 1 Axes>"
      ]
     },
     "metadata": {
      "needs_background": "light"
     },
     "output_type": "display_data"
    }
   ],
   "source": [
    "import random\n",
    "from sklearn.datasets import make_regression\n",
    "from matplotlib import pyplot\n",
    "# generate regression dataset\n",
    "x, y = make_regression(n_samples=100, n_features=1, noise=2)\n",
    "y = [i if random.random() > 0.02 else i + random.random() *500 for i in y]\n",
    "# plot regression dataset\n",
    "pyplot.scatter(x,y)\n",
    "pyplot.show()"
   ]
  },
  {
   "cell_type": "code",
   "execution_count": 177,
   "metadata": {},
   "outputs": [
    {
     "name": "stderr",
     "output_type": "stream",
     "text": [
      "WARNING:pystan:Automatic Differentiation Variational Inference (ADVI) is an EXPERIMENTAL ALGORITHM.\n",
      "WARNING:pystan:ADVI samples may be found on the filesystem in the file `/var/folders/y2/t181z22j1sn1vvn64nr7_y0xrb8507/T/tmptq4jfpij/output.csv`\n"
     ]
    }
   ],
   "source": [
    "N = len(x)\n",
    "fit = robost_regression_ard.vb(\n",
    "    data  = {'N': N, 'x': x[:, 0], 'y': y}\n",
    ")\n",
    "fit = pystan_vb_extract(fit)\n",
    "alpha = fit['alpha'].mean(axis=0)\n",
    "beta = fit['beta'].mean(axis=0)"
   ]
  },
  {
   "cell_type": "code",
   "execution_count": 188,
   "metadata": {},
   "outputs": [
    {
     "data": {
      "image/png": "[encoded data removed]",
      "text/plain": [
       "<Figure size 432x288 with 1 Axes>"
      ]
     },
     "metadata": {
      "needs_background": "light"
     },
     "output_type": "display_data"
    },
    {
     "data": {
      "image/png": "[encoded data removed]",
      "text/plain": [
       "<Figure size 432x288 with 1 Axes>"
      ]
     },
     "metadata": {
      "needs_background": "light"
     },
     "output_type": "display_data"
    }
   ],
   "source": [
    "\n",
    "xrange = np.array([-3 + i * 6/1000 for i in range(1000)])\n",
    "y_ = alpha * xrange + beta\n",
    "\n",
    "plt.subplot(2, 1, 1)\n",
    "plt.scatter(x,y)\n",
    "plt.plot(np.array([-3 + i * 6/1000 for i in range(1000)]), y_, color='darkblue', linewidth=2)\n",
    "plt.show()\n",
    "\n",
    "plt.subplot(2, 1, 2)\n",
    "plt.scatter(x,y)\n",
    "plt.plot(np.array([-3 + i * 6/1000 for i in range(1000)]), y_, color='darkblue', linewidth=2)\n",
    "plt.ylim(-20, 20)\n",
    "plt.show()\n",
    "\n"
   ]
  },
  {
   "cell_type": "code",
   "execution_count": 187,
   "metadata": {},
   "outputs": [
    {
     "data": {
      "image/png": "[encoded data removed]",
      "text/plain": [
       "<Figure size 432x288 with 1 Axes>"
      ]
     },
     "metadata": {
      "needs_background": "light"
     },
     "output_type": "display_data"
    },
    {
     "data": {
      "image/png": "[encoded data removed]",
      "text/plain": [
       "<Figure size 432x288 with 1 Axes>"
      ]
     },
     "metadata": {
      "needs_background": "light"
     },
     "output_type": "display_data"
    }
   ],
   "source": [
    "from sklearn.linear_model import LinearRegression\n",
    "r = LinearRegression().fit(x, y=y)\n",
    "y_ = r.predict(np.array([[-3 + i * 6/1000 for i in range(1000)],]).T)\n",
    "\n",
    "plt.subplot(2, 1, 1)\n",
    "plt.scatter(x,y)\n",
    "plt.plot(np.array([-3 + i * 6/1000 for i in range(1000)]), y_, color='darkblue', linewidth=2)\n",
    "plt.show()\n",
    "\n",
    "plt.subplot(2, 1, 2)\n",
    "plt.scatter(x,y)\n",
    "plt.plot(np.array([-3 + i * 6/1000 for i in range(1000)]), y_, color='darkblue', linewidth=2)\n",
    "plt.ylim(-20, 20)\n",
    "plt.show()\n"
   ]
  },
  {
   "cell_type": "markdown",
   "metadata": {},
   "source": [
    "### 2.8 PCA"
   ]
  },
  {
   "cell_type": "code",
   "execution_count": 232,
   "metadata": {},
   "outputs": [],
   "source": [
    "import matplotlib.pyplot as plt\n",
    "from sklearn import datasets\n",
    "\n",
    "data = datasets.fetch_olivetti_faces()\n",
    "images = data.images.reshape(400, -1)\n",
    "labels = data.target"
   ]
  },
  {
   "cell_type": "code",
   "execution_count": 2,
   "metadata": {},
   "outputs": [
    {
     "name": "stderr",
     "output_type": "stream",
     "text": [
      "INFO:pystan:COMPILING THE C++ CODE FOR MODEL pca_993caf18aaeb0bf61622abd3e215f0a2 NOW.\n"
     ]
    },
    {
     "name": "stdout",
     "output_type": "stream",
     "text": [
      "Creating pystan model & assigning it to variable name \"pca\".\n",
      "Stan options:\n",
      " {'model_name': 'pca', 'include_paths': None, 'boost_lib': None, 'eigen_lib': None, 'verbose': False, 'obfuscate_model_name': True}\n",
      "StanModel now available as variable \"pca\"!\n",
      "Compilation took 54 seconds.\n"
     ]
    }
   ],
   "source": [
    "%%stan pca\n",
    "data {\n",
    "    int<lower=0> N; // Number of samples\n",
    "    int<lower=0> D; // The original dimension\n",
    "    int<lower=0> K; // The latent dimension\n",
    "    matrix[N, D] X; // The data matrix\n",
    "}\n",
    "\n",
    "parameters {\n",
    "    matrix[N, K] Z; // The latent matrix\n",
    "    matrix[D, K] W; // The weight matrix\n",
    "    real<lower=0> tau; // Noise term \n",
    "    vector<lower=0>[K] alpha; // ARD prior\n",
    "}\n",
    "\n",
    "transformed parameters{\n",
    "    vector<lower=0>[K] t_alpha;\n",
    "    real<lower=0> t_tau;\n",
    "            t_alpha = inv(sqrt(alpha));\n",
    "            t_tau = inv(sqrt(tau));\n",
    "}\n",
    "\n",
    "model {\n",
    "    tau ~ gamma(1,1);\n",
    "    to_vector(Z) ~ normal(0,1);\n",
    "    alpha ~ gamma(1e-3,1e-3);\n",
    "    for(k in 1:K) \n",
    "      W[,k] ~ normal(0, t_alpha[k]);\n",
    "    to_vector(X) ~ normal(to_vector(Z*W'), t_tau);\n",
    "}"
   ]
  },
  {
   "cell_type": "code",
   "execution_count": 328,
   "metadata": {},
   "outputs": [
    {
     "name": "stderr",
     "output_type": "stream",
     "text": [
      "WARNING:pystan:Automatic Differentiation Variational Inference (ADVI) is an EXPERIMENTAL ALGORITHM.\n",
      "WARNING:pystan:ADVI samples may be found on the filesystem in the file `/var/folders/y2/t181z22j1sn1vvn64nr7_y0xrb8507/T/tmp7ll_1o4l/output.csv`\n"
     ]
    }
   ],
   "source": [
    "fit = pca.vb(\n",
    "    data={'N': 400, 'D': 4096, 'K': 64, 'X': images}\n",
    ")"
   ]
  },
  {
   "cell_type": "code",
   "execution_count": 329,
   "metadata": {},
   "outputs": [],
   "source": [
    "from collections import OrderedDict\n",
    "def pystan_vb_extract(results):\n",
    "    param_specs = results['sampler_param_names']\n",
    "    samples = results['sampler_params']\n",
    "    n = len(samples[0])\n",
    "\n",
    "    # first pass, calculate the shape\n",
    "    param_shapes = OrderedDict()\n",
    "    for param_spec in param_specs:\n",
    "        splt = param_spec.split('[')\n",
    "        name = splt[0]\n",
    "        if len(splt) > 1:\n",
    "            idxs = [int(i) for i in splt[1][:-1].split(',')]  # no +1 for shape calculation because pystan already returns 1-based indexes for vb!\n",
    "        else:\n",
    "            idxs = ()\n",
    "        param_shapes[name] = np.maximum(idxs, param_shapes.get(name, idxs))\n",
    "\n",
    "    # create arrays\n",
    "    params = OrderedDict([(name, np.nan * np.empty((n, ) + tuple(shape))) for name, shape in param_shapes.items()])\n",
    "\n",
    "    # second pass, set arrays\n",
    "    for param_spec, param_samples in zip(param_specs, samples):\n",
    "        splt = param_spec.split('[')\n",
    "        name = splt[0]\n",
    "        if len(splt) > 1:\n",
    "            idxs = [int(i) - 1 for i in splt[1][:-1].split(',')]  # -1 because pystan returns 1-based indexes for vb!\n",
    "        else:\n",
    "            idxs = ()\n",
    "        params[name][(..., ) + tuple(idxs)] = param_samples\n",
    "\n",
    "    return params"
   ]
  },
  {
   "cell_type": "code",
   "execution_count": 330,
   "metadata": {},
   "outputs": [],
   "source": [
    "res = pystan_vb_extract(fit)"
   ]
  },
  {
   "cell_type": "code",
   "execution_count": 331,
   "metadata": {},
   "outputs": [],
   "source": [
    "W = res[\"W\"].mean(axis=0)\n",
    "Z = res[\"Z\"].mean(axis=0)\n",
    "reconstruct = np.dot(Z, W.T)"
   ]
  },
  {
   "cell_type": "code",
   "execution_count": 332,
   "metadata": {},
   "outputs": [
    {
     "data": {
      "text/plain": [
       "<matplotlib.image.AxesImage at 0x1760c8e10>"
      ]
     },
     "execution_count": 332,
     "metadata": {},
     "output_type": "execute_result"
    },
    {
     "data": {
      "image/png": "[encoded data removed]",
      "text/plain": [
       "<Figure size 432x288 with 1 Axes>"
      ]
     },
     "metadata": {
      "needs_background": "light"
     },
     "output_type": "display_data"
    }
   ],
   "source": [
    "plt.imshow(images[3].reshape(64, 64))"
   ]
  },
  {
   "cell_type": "code",
   "execution_count": 333,
   "metadata": {},
   "outputs": [
    {
     "data": {
      "text/plain": [
       "<matplotlib.image.AxesImage at 0x201d82150>"
      ]
     },
     "execution_count": 333,
     "metadata": {},
     "output_type": "execute_result"
    },
    {
     "data": {
      "image/png": "[encoded data removed]",
      "text/plain": [
       "<Figure size 432x288 with 1 Axes>"
      ]
     },
     "metadata": {
      "needs_background": "light"
     },
     "output_type": "display_data"
    }
   ],
   "source": [
    "plt.imshow(reconstruct[3].reshape(64, 64))"
   ]
  },
  {
   "cell_type": "code",
   "execution_count": 357,
   "metadata": {},
   "outputs": [
    {
     "name": "stdout",
     "output_type": "stream",
     "text": [
      "0.9678571428571429\n",
      "0.8166666666666667\n"
     ]
    }
   ],
   "source": [
    "from sklearn.model_selection import train_test_split\n",
    "from sklearn.linear_model import LogisticRegression\n",
    "from sklearn.neighbors import KNeighborsClassifier\n",
    "\n",
    "X_train, X_test, y_train, y_test = train_test_split(images, labels, test_size=0.3)\n",
    "clf = KNeighborsClassifier(n_neighbors=3, metric='l2').fit(X_train, y_train)\n",
    "print(clf.score(X_train, y=y_train))\n",
    "print(clf.score(X_test, y=y_test))"
   ]
  },
  {
   "cell_type": "code",
   "execution_count": 358,
   "metadata": {},
   "outputs": [
    {
     "name": "stdout",
     "output_type": "stream",
     "text": [
      "0.9535714285714286\n",
      "0.8583333333333333\n"
     ]
    }
   ],
   "source": [
    "X_train, X_test, y_train, y_test = train_test_split(Z, labels, test_size=0.3)\n",
    "clf = KNeighborsClassifier(n_neighbors=3, metric='l2').fit(X_train, y_train)\n",
    "\n",
    "print(clf.score(X_train, y=y_train))\n",
    "print(clf.score(X_test, y=y_test))"
   ]
  },
  {
   "cell_type": "code",
   "execution_count": null,
   "metadata": {},
   "outputs": [],
   "source": []
  }
 ],
 "metadata": {
  "kernelspec": {
   "display_name": "Python 3",
   "language": "python",
   "name": "python3"
  },
  "language_info": {
   "codemirror_mode": {
    "name": "ipython",
    "version": 3
   },
   "file_extension": ".py",
   "mimetype": "text/x-python",
   "name": "python",
   "nbconvert_exporter": "python",
   "pygments_lexer": "ipython3",
   "version": "3.7.5"
  }
 },
 "nbformat": 4,
 "nbformat_minor": 2
}
